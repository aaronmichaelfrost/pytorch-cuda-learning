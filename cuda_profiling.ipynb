{
  "nbformat": 4,
  "nbformat_minor": 0,
  "metadata": {
    "colab": {
      "provenance": [],
      "machine_shape": "hm",
      "gpuType": "L4",
      "authorship_tag": "ABX9TyNA6R5uGHjkQOT3MIdeJH/d"
    },
    "kernelspec": {
      "name": "python3",
      "display_name": "Python 3"
    },
    "language_info": {
      "name": "python"
    },
    "accelerator": "GPU"
  },
  "cells": [
    {
      "cell_type": "code",
      "execution_count": 17,
      "metadata": {
        "id": "--cl8VozDweD"
      },
      "outputs": [],
      "source": [
        "# Aaron Frost 2025\n",
        "\n",
        "# let's learn about how to profile CUDA kernels - - - - - - - - - - - - - - - - - - - - - - - - - - - - - -\n",
        "#  I'm following along with https://www.youtube.com/watch?v=LuhJEEJQgUM&ab_channel=GPUMODE\n",
        "\n",
        "# in order to profile individual CUDA operations (kernels), we can't use the python time module.\n",
        "# this is because CUDA is ASYNC!\n",
        "# if you want to profile an operation you might use:\n",
        "#   start = torch.cuda.Event(enable_timing=True)  -- creates a start event\n",
        "#   end = torch.cuda.Event(enable_timing=True)    -- creates an end event\n",
        "\n",
        "# you also have to warm up CUDA before profiling\n",
        "#   the first time you call CUDA in a pytorch function it will initialize, so we want to get that out of the way first before starting a timer.\n",
        "\n",
        "# start.record() -- start the timer\n",
        "# // execute the function\n",
        "# end.record()   -- post the end event\n",
        "#\n",
        "# torch.cuda.synchronize()  -- AKA await the completion of the kernel\n",
        "\n",
        "# the time it took:\n",
        "# time = start.elapsed_time(end)"
      ]
    },
    {
      "cell_type": "code",
      "source": [
        "# what is torch autograd profiler?  - - - - - - - - - - - - - - - - - - - - - - - - - - - - - -\n",
        "\n",
        "# built in pytorch profiler tells you how much time each kernel took on CPU and GPU\n",
        "# gives you callstack, with the time it took at each method in the stack.\n",
        "\n",
        "# with torch.autograd.profiler.profile(use_cuda=True) as profiler:\n",
        "  # // do stuff that needs profiling\n",
        "\n",
        "# print out the table to see what the most time consuming kernels are\n",
        "# print(profiler.key_averages().table(sort_by=\"cuda_time_total\", row_limit=10))"
      ],
      "metadata": {
        "id": "Ci_vNUcnFGzl"
      },
      "execution_count": 18,
      "outputs": []
    },
    {
      "cell_type": "code",
      "source": [
        "# what is pytorch profiler?  - - - - - - - - - - - - - - - - - - - - - - - - - - - - - -\n",
        "#\n",
        "# visual profiler\n",
        "# doesn't give you debugging for kernel internals\n",
        "# JSON file you can drag and drop into google chrome.\n",
        "# you can see the CUDA kernels on teh pytorch github repo by looking for .cu"
      ],
      "metadata": {
        "id": "VLbwfGwBGAJD"
      },
      "execution_count": 19,
      "outputs": []
    },
    {
      "cell_type": "code",
      "source": [
        "# how to integrate custom CUDA kernel in PyTorch\n",
        "\n",
        "# basically load a C++ function in a python program\n",
        "#    easiest way is\n",
        "#       from torch.utils.cpp_extension import load_inline\n",
        "\n",
        "\n",
        "# Ninja is required for this, so we need to execute this command in the runtime terminal:\n",
        "# apt-get install ninja-build\n",
        "\n",
        "# then you can write the .cu source inline:\n",
        "# ex.\n",
        "import torch\n",
        "from torch.utils.cpp_extension import load_inline\n",
        "\n",
        "cpp_source = \"\"\"\n",
        "std::string hello_world() {\n",
        "  return \"Hello World!\";\n",
        "}\n",
        "\"\"\"\n",
        "\n",
        "# under the hood this codegens a makefile to run a compiler and produce CPP output files and binds them to python using PYBIND\n",
        "my_module = load_inline(\n",
        "    name='my_module',\n",
        "    cpp_sources=[cpp_source],\n",
        "    functions=['hello_world'],\n",
        "    verbose=True)\n",
        "\n",
        "print(my_module.hello_world())\n",
        "\n",
        "# https://www.youtube.com/watch?v=-6_CvTdzMRY&ab_channel=MarkSaroufim"
      ],
      "metadata": {
        "colab": {
          "base_uri": "https://localhost:8080/"
        },
        "id": "0xpNhZfpHBPt",
        "outputId": "d247a957-67f9-4fbc-8cb8-b9838bff2dfd"
      },
      "execution_count": 20,
      "outputs": [
        {
          "output_type": "stream",
          "name": "stdout",
          "text": [
            "Hello World!\n"
          ]
        },
        {
          "output_type": "stream",
          "name": "stderr",
          "text": [
            "Using /root/.cache/torch_extensions/py311_cu121 as PyTorch extensions root...\n",
            "No modifications detected for re-loaded extension module my_module, skipping build step...\n",
            "Loading extension module my_module...\n"
          ]
        }
      ]
    },
    {
      "cell_type": "code",
      "source": [
        "# a lot of machine learning progress comes down to a \"bag of tricks\" people in the ML community know about to make models converge faster\n",
        "# one trick is mixed-precision\n",
        "# all you have to do is make the weights and inputs half precision...\n",
        "\n",
        "# floating point data type has bits for mantissa and exponent (binary scientific notation)\n",
        "# model size is a proxy for training time required.\n",
        "\n",
        "# one more subtle thing you have to do:\n",
        "#\n",
        "# example: batch normalization - make sure outputs (activations) at any individual layer are not too big or too small:\n",
        "#   this is crucial to ensure different features with varying ranges have a similar scale.\n",
        "#   when you do this, using a lower precision would cause a problem:\n",
        "#     smaller floating point types (less bits) means it can't have as many decimal points... so we're losing information with each batch norm\n",
        "# introducing mixed precision: (loss-gradient scaling)\n",
        "#   maintain copy of single precision (32 bit) floats\n",
        "#       copy to half precision (16 bit) -> do foward propagation, multiply by scaling factor (to make it larger / get rid of decimal points),\n",
        "#            do backprop, multiply weight gradient by 1/scaling factor, to make it smaller again"
      ],
      "metadata": {
        "id": "UQBEMhTLXVOt"
      },
      "execution_count": 21,
      "outputs": []
    },
    {
      "cell_type": "code",
      "source": [
        "# USING CUDA:\n",
        "#\n",
        "# you can move a tensor to the GPU using .cuda()\n",
        "# GPU only works well for tasks that can be broken down into many smaller parallel tasks, like traning neural networks\n",
        "\n",
        "# common CUDA optimizations:\n",
        "#\n",
        "# Memory coalescing:\n",
        "#   https://youtu.be/mLxZyWOI340?si=A4Kbj-OZvrLY8Jf-\n",
        "#   GPU is most effienct when threads read or write contiguous global memory locations\n",
        "#       - coalesced access - as opposed to strided (stride between each access) - reduces the number of memory transactions required\n",
        "#   To programmers, a tensor might look like a square, but in RAM, it's a single linear set of addresses.\n",
        "#     It's a perf optimization to SHARE memory access.\n",
        "#     When each thread needs to access a different col of a matrix, it is more optimal than if each row needs to be accessed.\n",
        "#         --> for this reason you might transpose the rows and cols.\n",
        "\n",
        "\n",
        "# when you run a kernel, you define the block and how many threads are in the block, and grid layout (how many blocks)\n",
        "# each thread block is assigned to a streaming multiprocessor - each can process a number of threads\n",
        "\n",
        "\n",
        "# Shared memory:\n",
        "#     Shared memory is a fast, user-managed memory that is shared among all threads in the same thread block.\n",
        "#     Declare shared memory __shared__ float sharedArray[BLOCK_SIZE];\n",
        "\n",
        "\n",
        "#     Example.. Matrix multiplication\n",
        "#       Things to look out for: Bank conflicts degrading perf, limited memory size, ensuring to sync the threads.\n",
        "\"\"\"\n",
        "__global__ void matrixMul(float *A, float *B, float *C, int N) {\n",
        "    __shared__ float Asub[TILE_SIZE][TILE_SIZE];\n",
        "    __shared__ float Bsub[TILE_SIZE][TILE_SIZE];\n",
        "\n",
        "    int tx = threadIdx.x;\n",
        "    int ty = threadIdx.y;\n",
        "    int row = blockIdx.y * TILE_SIZE + ty;\n",
        "    int col = blockIdx.x * TILE_SIZE + tx;\n",
        "\n",
        "    float value = 0;\n",
        "\n",
        "    for (int i = 0; i < N / TILE_SIZE; ++i) {\n",
        "        // Load tiles into shared memory\n",
        "        Asub[ty][tx] = A[row * N + (i * TILE_SIZE + tx)];\n",
        "        Bsub[ty][tx] = B[(i * TILE_SIZE + ty) * N + col];\n",
        "        __syncthreads(); // sync to ensure data-consistency\n",
        "\n",
        "        // Perform multiplication\n",
        "        for (int j = 0; j < TILE_SIZE; ++j) {\n",
        "            value += Asub[ty][j] * Bsub[j][tx];\n",
        "        }\n",
        "        __syncthreads();\n",
        "    }\n",
        "\n",
        "    // Write result to global memory\n",
        "    C[row * N + col] = value;\n",
        "}\"\"\""
      ],
      "metadata": {
        "colab": {
          "base_uri": "https://localhost:8080/",
          "height": 122
        },
        "id": "Vugyllhxcpys",
        "outputId": "d7453181-0b52-4a27-c6fd-174009a2763b"
      },
      "execution_count": 22,
      "outputs": [
        {
          "output_type": "execute_result",
          "data": {
            "text/plain": [
              "'\\n__global__ void matrixMul(float *A, float *B, float *C, int N) {\\n    __shared__ float Asub[TILE_SIZE][TILE_SIZE];\\n    __shared__ float Bsub[TILE_SIZE][TILE_SIZE];\\n\\n    int tx = threadIdx.x;\\n    int ty = threadIdx.y;\\n    int row = blockIdx.y * TILE_SIZE + ty;\\n    int col = blockIdx.x * TILE_SIZE + tx;\\n\\n    float value = 0;\\n\\n    for (int i = 0; i < N / TILE_SIZE; ++i) {\\n        // Load tiles into shared memory\\n        Asub[ty][tx] = A[row * N + (i * TILE_SIZE + tx)];\\n        Bsub[ty][tx] = B[(i * TILE_SIZE + ty) * N + col];\\n        __syncthreads(); // sync to ensure data-consistency\\n\\n        // Perform multiplication\\n        for (int j = 0; j < TILE_SIZE; ++j) {\\n            value += Asub[ty][j] * Bsub[j][tx];\\n        }\\n        __syncthreads();\\n    }\\n\\n    // Write result to global memory\\n    C[row * N + col] = value;\\n}'"
            ],
            "application/vnd.google.colaboratory.intrinsic+json": {
              "type": "string"
            }
          },
          "metadata": {},
          "execution_count": 22
        }
      ]
    },
    {
      "cell_type": "code",
      "source": [
        "# Anyways, let's now pull in our flower dataset, and write a custom load_inline cuda extension for batch normalization method to use\n",
        "# fp8 mixed precision."
      ],
      "metadata": {
        "id": "XRKsCURcnqK_"
      },
      "execution_count": 23,
      "outputs": []
    },
    {
      "cell_type": "code",
      "source": [
        "# currently working on this part...\n",
        "\n",
        "import torch\n",
        "from torch.utils.cpp_extension import load_inline\n",
        "from sklearn.datasets import load_iris\n",
        "from sklearn.model_selection import train_test_split\n",
        "from sklearn.preprocessing import StandardScaler\n",
        "\n",
        "# Load Iris dataset\n",
        "iris = load_iris()\n",
        "X, y = iris.data, iris.target\n",
        "\n",
        "# Normalize and split the data\n",
        "scaler = StandardScaler()\n",
        "X = scaler.fit_transform(X)\n",
        "X_train, X_test, y_train, y_test = train_test_split(X, y, test_size=0.2, random_state=42)\n",
        "\n",
        "# Convert data to PyTorch tensors\n",
        "X_train = torch.tensor(X_train, dtype=torch.float32)\n",
        "y_train = torch.tensor(y_train, dtype=torch.long)\n",
        "X_test = torch.tensor(X_test, dtype=torch.float32)\n",
        "y_test = torch.tensor(y_test, dtype=torch.long)\n",
        "\n",
        "# Define a simple MLP\n",
        "class IrisMLP(torch.nn.Module):\n",
        "    def __init__(self, input_size, hidden_size, num_classes):\n",
        "        super(IrisMLP, self).__init__()\n",
        "        self.fc1 = torch.nn.Linear(input_size, hidden_size)\n",
        "        self.bn = torch.nn.BatchNorm1d(hidden_size)\n",
        "        self.fc2 = torch.nn.Linear(hidden_size, num_classes)\n",
        "        self.softmax = torch.nn.Softmax(dim=1)\n",
        "\n",
        "    def forward(self, x):\n",
        "        x = self.fc1(x)\n",
        "        x = self.bn(x)\n",
        "        x = torch.relu(x)\n",
        "        x = self.fc2(x)\n",
        "        return self.softmax(x)\n",
        "\n",
        "# Load Inline CUDA Extension\n",
        "batch_norm_extension = load_inline(\n",
        "    name=\"batch_norm_fp8\",\n",
        "    cpp_sources=\"\"\"\n",
        "#include <torch/extension.h>\n",
        "#include \"cuda_runtime.h\"\n",
        "#include <ATen/cuda/CUDAContext.h>\n",
        "\n",
        "// global function runs on the GPU, and is called from the CPU\n",
        "__global__ void batch_norm_fp8_kernel(const float* __restrict__ input,\n",
        "                                      float* __restrict__ output,\n",
        "                                      const int size) {\n",
        "    int idx = blockIdx.x * blockDim.x + threadIdx.x;\n",
        "    if (idx < size) {\n",
        "        output[idx] = input[idx] * 0.125;  // Simulating FP8\n",
        "    }\n",
        "}\n",
        "\n",
        "torch::Tensor batch_norm_fp8(torch::Tensor input) {\n",
        "    auto output = torch::empty_like(input);\n",
        "    const int threads = 1024;\n",
        "    const int blocks = (input.numel() + threads - 1) / threads;\n",
        "\n",
        "    batch_norm_fp8_kernel<<<blocks, threads>>>(\n",
        "        input.data_ptr<float>(), output.data_ptr<float>(), input.numel());\n",
        "    return output;\n",
        "}\n",
        "\n",
        "PYBIND11_MODULE(TORCH_EXTENSION_NAME, m) {\n",
        "    m.def(\"batch_norm_fp8\", &batch_norm_fp8, \"BatchNorm FP8 kernel\");\n",
        "}\n",
        "\"\"\",\n",
        "    functions=[\"batch_norm_fp8\"],\n",
        "    extra_cuda_cflags=[\"--use_fast_math\"],\n",
        ")\n",
        "\n",
        "# Define a custom batch normalization function using the CUDA extension\n",
        "class CustomBatchNormFP8(torch.autograd.Function):\n",
        "    @staticmethod\n",
        "    def forward(ctx, input):\n",
        "        return batch_norm_extension.batch_norm_fp8(input)\n",
        "\n",
        "    @staticmethod\n",
        "    def backward(ctx, grad_output):\n",
        "        return grad_output.clone()\n",
        "\n",
        "# Replace the batch norm in the MLP model\n",
        "class CustomIrisMLP(IrisMLP):\n",
        "    def __init__(self, input_size, hidden_size, num_classes):\n",
        "        super(CustomIrisMLP, self).__init__(input_size, hidden_size, num_classes)\n",
        "        self.bn = CustomBatchNormFP8.apply\n",
        "\n",
        "# Train and profile the model\n",
        "model = CustomIrisMLP(input_size=4, hidden_size=8, num_classes=3)\n",
        "optimizer = torch.optim.Adam(model.parameters(), lr=0.01)\n",
        "criterion = torch.nn.CrossEntropyLoss()\n",
        "\n",
        "# Training loop\n",
        "for epoch in range(10):\n",
        "    optimizer.zero_grad()\n",
        "    outputs = model(X_train)\n",
        "    loss = criterion(outputs, y_train)\n",
        "    loss.backward()\n",
        "    optimizer.step()\n",
        "\n",
        "# Profiling with autograd profiler\n",
        "with torch.autograd.profiler.profile(use_cuda=True) as prof:\n",
        "    outputs = model(X_train)\n",
        "    loss = criterion(outputs, y_train)\n",
        "    loss.backward()\n",
        "\n",
        "print(prof.key_averages().table(sort_by=\"cuda_time_total\", row_limit=10))"
      ],
      "metadata": {
        "colab": {
          "base_uri": "https://localhost:8080/",
          "height": 669
        },
        "id": "cmQqCcYSpOjG",
        "outputId": "f891d58f-e1b1-4f07-d21c-26e4c88e3372"
      },
      "execution_count": 24,
      "outputs": [
        {
          "output_type": "error",
          "ename": "RuntimeError",
          "evalue": "Error building extension 'batch_norm_fp8_v2': [1/2] c++ -MMD -MF main.o.d -DTORCH_EXTENSION_NAME=batch_norm_fp8_v2 -DTORCH_API_INCLUDE_EXTENSION_H -DPYBIND11_COMPILER_TYPE=\\\"_gcc\\\" -DPYBIND11_STDLIB=\\\"_libstdcpp\\\" -DPYBIND11_BUILD_ABI=\\\"_cxxabi1011\\\" -isystem /usr/local/lib/python3.11/dist-packages/torch/include -isystem /usr/local/lib/python3.11/dist-packages/torch/include/torch/csrc/api/include -isystem /usr/local/lib/python3.11/dist-packages/torch/include/TH -isystem /usr/local/lib/python3.11/dist-packages/torch/include/THC -isystem /usr/include/python3.11 -D_GLIBCXX_USE_CXX11_ABI=0 -fPIC -std=c++17 -c /root/.cache/torch_extensions/py311_cu121/batch_norm_fp8/main.cpp -o main.o \nFAILED: main.o \nc++ -MMD -MF main.o.d -DTORCH_EXTENSION_NAME=batch_norm_fp8_v2 -DTORCH_API_INCLUDE_EXTENSION_H -DPYBIND11_COMPILER_TYPE=\\\"_gcc\\\" -DPYBIND11_STDLIB=\\\"_libstdcpp\\\" -DPYBIND11_BUILD_ABI=\\\"_cxxabi1011\\\" -isystem /usr/local/lib/python3.11/dist-packages/torch/include -isystem /usr/local/lib/python3.11/dist-packages/torch/include/torch/csrc/api/include -isystem /usr/local/lib/python3.11/dist-packages/torch/include/TH -isystem /usr/local/lib/python3.11/dist-packages/torch/include/THC -isystem /usr/include/python3.11 -D_GLIBCXX_USE_CXX11_ABI=0 -fPIC -std=c++17 -c /root/.cache/torch_extensions/py311_cu121/batch_norm_fp8/main.cpp -o main.o \n/root/.cache/torch_extensions/py311_cu121/batch_norm_fp8/main.cpp:4:10: fatal error: cuda_runtime.h: No such file or directory\n    4 | #include \"cuda_runtime.h\"\n      |          ^~~~~~~~~~~~~~~~\ncompilation terminated.\nninja: build stopped: subcommand failed.\n",
          "traceback": [
            "\u001b[0;31m---------------------------------------------------------------------------\u001b[0m",
            "\u001b[0;31mCalledProcessError\u001b[0m                        Traceback (most recent call last)",
            "\u001b[0;32m/usr/local/lib/python3.11/dist-packages/torch/utils/cpp_extension.py\u001b[0m in \u001b[0;36m_run_ninja_build\u001b[0;34m(build_directory, verbose, error_prefix)\u001b[0m\n\u001b[1;32m   2103\u001b[0m         \u001b[0mstdout_fileno\u001b[0m \u001b[0;34m=\u001b[0m \u001b[0;36m1\u001b[0m\u001b[0;34m\u001b[0m\u001b[0;34m\u001b[0m\u001b[0m\n\u001b[0;32m-> 2104\u001b[0;31m         subprocess.run(\n\u001b[0m\u001b[1;32m   2105\u001b[0m             \u001b[0mcommand\u001b[0m\u001b[0;34m,\u001b[0m\u001b[0;34m\u001b[0m\u001b[0;34m\u001b[0m\u001b[0m\n",
            "\u001b[0;32m/usr/lib/python3.11/subprocess.py\u001b[0m in \u001b[0;36mrun\u001b[0;34m(input, capture_output, timeout, check, *popenargs, **kwargs)\u001b[0m\n\u001b[1;32m    570\u001b[0m         \u001b[0;32mif\u001b[0m \u001b[0mcheck\u001b[0m \u001b[0;32mand\u001b[0m \u001b[0mretcode\u001b[0m\u001b[0;34m:\u001b[0m\u001b[0;34m\u001b[0m\u001b[0;34m\u001b[0m\u001b[0m\n\u001b[0;32m--> 571\u001b[0;31m             raise CalledProcessError(retcode, process.args,\n\u001b[0m\u001b[1;32m    572\u001b[0m                                      output=stdout, stderr=stderr)\n",
            "\u001b[0;31mCalledProcessError\u001b[0m: Command '['ninja', '-v']' returned non-zero exit status 1.",
            "\nThe above exception was the direct cause of the following exception:\n",
            "\u001b[0;31mRuntimeError\u001b[0m                              Traceback (most recent call last)",
            "\u001b[0;32m<ipython-input-24-0bffdc7a1161>\u001b[0m in \u001b[0;36m<cell line: 0>\u001b[0;34m()\u001b[0m\n\u001b[1;32m     37\u001b[0m \u001b[0;34m\u001b[0m\u001b[0m\n\u001b[1;32m     38\u001b[0m \u001b[0;31m# Load Inline CUDA Extension\u001b[0m\u001b[0;34m\u001b[0m\u001b[0;34m\u001b[0m\u001b[0m\n\u001b[0;32m---> 39\u001b[0;31m batch_norm_extension = load_inline(\n\u001b[0m\u001b[1;32m     40\u001b[0m     \u001b[0mname\u001b[0m\u001b[0;34m=\u001b[0m\u001b[0;34m\"batch_norm_fp8\"\u001b[0m\u001b[0;34m,\u001b[0m\u001b[0;34m\u001b[0m\u001b[0;34m\u001b[0m\u001b[0m\n\u001b[1;32m     41\u001b[0m     cpp_sources=\"\"\"\n",
            "\u001b[0;32m/usr/local/lib/python3.11/dist-packages/torch/utils/cpp_extension.py\u001b[0m in \u001b[0;36mload_inline\u001b[0;34m(name, cpp_sources, cuda_sources, functions, extra_cflags, extra_cuda_cflags, extra_ldflags, extra_include_paths, build_directory, verbose, with_cuda, is_python_module, with_pytorch_error_handling, keep_intermediates, use_pch)\u001b[0m\n\u001b[1;32m   1644\u001b[0m         \u001b[0msources\u001b[0m\u001b[0;34m.\u001b[0m\u001b[0mappend\u001b[0m\u001b[0;34m(\u001b[0m\u001b[0mcuda_source_path\u001b[0m\u001b[0;34m)\u001b[0m\u001b[0;34m\u001b[0m\u001b[0;34m\u001b[0m\u001b[0m\n\u001b[1;32m   1645\u001b[0m \u001b[0;34m\u001b[0m\u001b[0m\n\u001b[0;32m-> 1646\u001b[0;31m     return _jit_compile(\n\u001b[0m\u001b[1;32m   1647\u001b[0m         \u001b[0mname\u001b[0m\u001b[0;34m,\u001b[0m\u001b[0;34m\u001b[0m\u001b[0;34m\u001b[0m\u001b[0m\n\u001b[1;32m   1648\u001b[0m         \u001b[0msources\u001b[0m\u001b[0;34m,\u001b[0m\u001b[0;34m\u001b[0m\u001b[0;34m\u001b[0m\u001b[0m\n",
            "\u001b[0;32m/usr/local/lib/python3.11/dist-packages/torch/utils/cpp_extension.py\u001b[0m in \u001b[0;36m_jit_compile\u001b[0;34m(name, sources, extra_cflags, extra_cuda_cflags, extra_ldflags, extra_include_paths, build_directory, verbose, with_cuda, is_python_module, is_standalone, keep_intermediates)\u001b[0m\n\u001b[1;32m   1719\u001b[0m                         \u001b[0msources\u001b[0m \u001b[0;34m=\u001b[0m \u001b[0mlist\u001b[0m\u001b[0;34m(\u001b[0m\u001b[0mhipified_sources\u001b[0m\u001b[0;34m)\u001b[0m\u001b[0;34m\u001b[0m\u001b[0;34m\u001b[0m\u001b[0m\n\u001b[1;32m   1720\u001b[0m \u001b[0;34m\u001b[0m\u001b[0m\n\u001b[0;32m-> 1721\u001b[0;31m                     _write_ninja_file_and_build_library(\n\u001b[0m\u001b[1;32m   1722\u001b[0m                         \u001b[0mname\u001b[0m\u001b[0;34m=\u001b[0m\u001b[0mname\u001b[0m\u001b[0;34m,\u001b[0m\u001b[0;34m\u001b[0m\u001b[0;34m\u001b[0m\u001b[0m\n\u001b[1;32m   1723\u001b[0m                         \u001b[0msources\u001b[0m\u001b[0;34m=\u001b[0m\u001b[0msources\u001b[0m\u001b[0;34m,\u001b[0m\u001b[0;34m\u001b[0m\u001b[0;34m\u001b[0m\u001b[0m\n",
            "\u001b[0;32m/usr/local/lib/python3.11/dist-packages/torch/utils/cpp_extension.py\u001b[0m in \u001b[0;36m_write_ninja_file_and_build_library\u001b[0;34m(name, sources, extra_cflags, extra_cuda_cflags, extra_ldflags, extra_include_paths, build_directory, verbose, with_cuda, is_standalone)\u001b[0m\n\u001b[1;32m   1831\u001b[0m     \u001b[0;32mif\u001b[0m \u001b[0mverbose\u001b[0m\u001b[0;34m:\u001b[0m\u001b[0;34m\u001b[0m\u001b[0;34m\u001b[0m\u001b[0m\n\u001b[1;32m   1832\u001b[0m         \u001b[0mprint\u001b[0m\u001b[0;34m(\u001b[0m\u001b[0;34mf'Building extension module {name}...'\u001b[0m\u001b[0;34m,\u001b[0m \u001b[0mfile\u001b[0m\u001b[0;34m=\u001b[0m\u001b[0msys\u001b[0m\u001b[0;34m.\u001b[0m\u001b[0mstderr\u001b[0m\u001b[0;34m)\u001b[0m\u001b[0;34m\u001b[0m\u001b[0;34m\u001b[0m\u001b[0m\n\u001b[0;32m-> 1833\u001b[0;31m     _run_ninja_build(\n\u001b[0m\u001b[1;32m   1834\u001b[0m         \u001b[0mbuild_directory\u001b[0m\u001b[0;34m,\u001b[0m\u001b[0;34m\u001b[0m\u001b[0;34m\u001b[0m\u001b[0m\n\u001b[1;32m   1835\u001b[0m         \u001b[0mverbose\u001b[0m\u001b[0;34m,\u001b[0m\u001b[0;34m\u001b[0m\u001b[0;34m\u001b[0m\u001b[0m\n",
            "\u001b[0;32m/usr/local/lib/python3.11/dist-packages/torch/utils/cpp_extension.py\u001b[0m in \u001b[0;36m_run_ninja_build\u001b[0;34m(build_directory, verbose, error_prefix)\u001b[0m\n\u001b[1;32m   2118\u001b[0m         \u001b[0;32mif\u001b[0m \u001b[0mhasattr\u001b[0m\u001b[0;34m(\u001b[0m\u001b[0merror\u001b[0m\u001b[0;34m,\u001b[0m \u001b[0;34m'output'\u001b[0m\u001b[0;34m)\u001b[0m \u001b[0;32mand\u001b[0m \u001b[0merror\u001b[0m\u001b[0;34m.\u001b[0m\u001b[0moutput\u001b[0m\u001b[0;34m:\u001b[0m  \u001b[0;31m# type: ignore[union-attr]\u001b[0m\u001b[0;34m\u001b[0m\u001b[0;34m\u001b[0m\u001b[0m\n\u001b[1;32m   2119\u001b[0m             \u001b[0mmessage\u001b[0m \u001b[0;34m+=\u001b[0m \u001b[0;34mf\": {error.output.decode(*SUBPROCESS_DECODE_ARGS)}\"\u001b[0m  \u001b[0;31m# type: ignore[union-attr]\u001b[0m\u001b[0;34m\u001b[0m\u001b[0;34m\u001b[0m\u001b[0m\n\u001b[0;32m-> 2120\u001b[0;31m         \u001b[0;32mraise\u001b[0m \u001b[0mRuntimeError\u001b[0m\u001b[0;34m(\u001b[0m\u001b[0mmessage\u001b[0m\u001b[0;34m)\u001b[0m \u001b[0;32mfrom\u001b[0m \u001b[0me\u001b[0m\u001b[0;34m\u001b[0m\u001b[0;34m\u001b[0m\u001b[0m\n\u001b[0m\u001b[1;32m   2121\u001b[0m \u001b[0;34m\u001b[0m\u001b[0m\n\u001b[1;32m   2122\u001b[0m \u001b[0;34m\u001b[0m\u001b[0m\n",
            "\u001b[0;31mRuntimeError\u001b[0m: Error building extension 'batch_norm_fp8_v2': [1/2] c++ -MMD -MF main.o.d -DTORCH_EXTENSION_NAME=batch_norm_fp8_v2 -DTORCH_API_INCLUDE_EXTENSION_H -DPYBIND11_COMPILER_TYPE=\\\"_gcc\\\" -DPYBIND11_STDLIB=\\\"_libstdcpp\\\" -DPYBIND11_BUILD_ABI=\\\"_cxxabi1011\\\" -isystem /usr/local/lib/python3.11/dist-packages/torch/include -isystem /usr/local/lib/python3.11/dist-packages/torch/include/torch/csrc/api/include -isystem /usr/local/lib/python3.11/dist-packages/torch/include/TH -isystem /usr/local/lib/python3.11/dist-packages/torch/include/THC -isystem /usr/include/python3.11 -D_GLIBCXX_USE_CXX11_ABI=0 -fPIC -std=c++17 -c /root/.cache/torch_extensions/py311_cu121/batch_norm_fp8/main.cpp -o main.o \nFAILED: main.o \nc++ -MMD -MF main.o.d -DTORCH_EXTENSION_NAME=batch_norm_fp8_v2 -DTORCH_API_INCLUDE_EXTENSION_H -DPYBIND11_COMPILER_TYPE=\\\"_gcc\\\" -DPYBIND11_STDLIB=\\\"_libstdcpp\\\" -DPYBIND11_BUILD_ABI=\\\"_cxxabi1011\\\" -isystem /usr/local/lib/python3.11/dist-packages/torch/include -isystem /usr/local/lib/python3.11/dist-packages/torch/include/torch/csrc/api/include -isystem /usr/local/lib/python3.11/dist-packages/torch/include/TH -isystem /usr/local/lib/python3.11/dist-packages/torch/include/THC -isystem /usr/include/python3.11 -D_GLIBCXX_USE_CXX11_ABI=0 -fPIC -std=c++17 -c /root/.cache/torch_extensions/py311_cu121/batch_norm_fp8/main.cpp -o main.o \n/root/.cache/torch_extensions/py311_cu121/batch_norm_fp8/main.cpp:4:10: fatal error: cuda_runtime.h: No such file or directory\n    4 | #include \"cuda_runtime.h\"\n      |          ^~~~~~~~~~~~~~~~\ncompilation terminated.\nninja: build stopped: subcommand failed.\n"
          ]
        }
      ]
    }
  ]
}